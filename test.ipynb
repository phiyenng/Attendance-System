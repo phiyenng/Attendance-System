{
 "cells": [
  {
   "cell_type": "code",
   "execution_count": 12,
   "id": "f9f72f14",
   "metadata": {},
   "outputs": [],
   "source": [
    "import re\n",
    "import pandas as pd\n",
    "import numpy as np"
   ]
  },
  {
   "cell_type": "code",
   "execution_count": null,
   "id": "d51ddac4",
   "metadata": {},
   "outputs": [],
   "source": [
    "df = pd.read_excel(r'C:\\Users\\PC\\Documents\\GitHub\\Attendance-System\\rawdata\\tmpexport_1750410103514.xlsx')\n",
    "employee_list_df = pd.read_csv(r'C:\\Users\\PC\\Documents\\GitHub\\Attendance-System\\uploads\\employee_list.csv')"
   ]
  },
  {
   "cell_type": "code",
   "execution_count": 11,
   "id": "5c8d7308",
   "metadata": {},
   "outputs": [],
   "source": [
    "def process_ot_lieu_df(df, employee_list_df):\n",
    "    import re\n",
    "    # 1. Thêm cột Name dựa vào Title và employee_list_df\n",
    "    if 'Title' in df.columns:\n",
    "        def extract_name_id(title):\n",
    "            match = re.search(r'_([a-zA-Z\\s]+?)[_\\s](\\d{7,8})', str(title))\n",
    "            if match:\n",
    "                emp_id = match.group(1)\n",
    "                # Tìm dòng trong bảng employee_list_df có Name kết thúc bằng emp_id\n",
    "                match_row = employee_list_df[employee_list_df['Name'].astype(str).str.endswith(emp_id)]\n",
    "                if not match_row.empty:\n",
    "                    return match_row.iloc[0]['Name']  # Trả về full name + id từ bảng nhân sự\n",
    "            return None  # hoặc return f\"{raw_name}{emp_id}\" nếu cần fallback\n",
    "\n",
    "        # Áp dụng cho DataFrame df\n",
    "        df['Name'] = df['Title'].apply(extract_name_id)\n",
    "        # Đưa cột Name lên đầu\n",
    "        cols = list(df.columns)\n",
    "        if 'Name' in cols:\n",
    "            cols.insert(0, cols.pop(cols.index('Name')))\n",
    "            df = df[cols]\n",
    "    return df"
   ]
  },
  {
   "cell_type": "code",
   "execution_count": null,
   "id": "2139e08b",
   "metadata": {},
   "outputs": [],
   "source": []
  }
 ],
 "metadata": {
  "kernelspec": {
   "display_name": "Python 3",
   "language": "python",
   "name": "python3"
  },
  "language_info": {
   "codemirror_mode": {
    "name": "ipython",
    "version": 3
   },
   "file_extension": ".py",
   "mimetype": "text/x-python",
   "name": "python",
   "nbconvert_exporter": "python",
   "pygments_lexer": "ipython3",
   "version": "3.13.3"
  }
 },
 "nbformat": 4,
 "nbformat_minor": 5
}
